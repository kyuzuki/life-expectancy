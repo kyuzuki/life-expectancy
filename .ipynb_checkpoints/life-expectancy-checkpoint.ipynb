{
 "cells": [
  {
   "cell_type": "code",
   "execution_count": 1,
   "metadata": {},
   "outputs": [],
   "source": [
    "import pandas as pd\n",
    "import numpy as np\n",
    "from sklearn.model_selection import train_test_split\n",
    "from sklearn.linear_model import LinearRegression\n",
    "import ipywidgets as widgets\n",
    "from ipywidgets import interact"
   ]
  },
  {
   "cell_type": "markdown",
   "metadata": {},
   "source": [
    "data source\n",
    "https://www.kaggle.com/kumarajarshi/life-expectancy-who\n"
   ]
  },
  {
   "cell_type": "code",
   "execution_count": 2,
   "metadata": {},
   "outputs": [],
   "source": [
    "le = pd.read_csv('Life-Expectancy-Data.csv')"
   ]
  },
  {
   "cell_type": "code",
   "execution_count": 3,
   "metadata": {},
   "outputs": [
    {
     "data": {
      "text/html": [
       "<div>\n",
       "<style scoped>\n",
       "    .dataframe tbody tr th:only-of-type {\n",
       "        vertical-align: middle;\n",
       "    }\n",
       "\n",
       "    .dataframe tbody tr th {\n",
       "        vertical-align: top;\n",
       "    }\n",
       "\n",
       "    .dataframe thead th {\n",
       "        text-align: right;\n",
       "    }\n",
       "</style>\n",
       "<table border=\"1\" class=\"dataframe\">\n",
       "  <thead>\n",
       "    <tr style=\"text-align: right;\">\n",
       "      <th></th>\n",
       "      <th>Country</th>\n",
       "      <th>Year</th>\n",
       "      <th>Status</th>\n",
       "      <th>Life expectancy</th>\n",
       "      <th>Adult Mortality</th>\n",
       "      <th>infant deaths</th>\n",
       "      <th>Alcohol</th>\n",
       "      <th>percentage expenditure</th>\n",
       "      <th>Hepatitis B</th>\n",
       "      <th>Measles</th>\n",
       "      <th>...</th>\n",
       "      <th>Polio</th>\n",
       "      <th>Total expenditure</th>\n",
       "      <th>Diphtheria</th>\n",
       "      <th>HIV/AIDS</th>\n",
       "      <th>GDP</th>\n",
       "      <th>Population</th>\n",
       "      <th>thinness  1-19 years</th>\n",
       "      <th>thinness 5-9 years</th>\n",
       "      <th>Income composition of resources</th>\n",
       "      <th>Schooling</th>\n",
       "    </tr>\n",
       "  </thead>\n",
       "  <tbody>\n",
       "    <tr>\n",
       "      <td>0</td>\n",
       "      <td>Afghanistan</td>\n",
       "      <td>2015</td>\n",
       "      <td>Developing</td>\n",
       "      <td>65.0</td>\n",
       "      <td>263.0</td>\n",
       "      <td>62</td>\n",
       "      <td>0.01</td>\n",
       "      <td>71.279624</td>\n",
       "      <td>65.0</td>\n",
       "      <td>1154</td>\n",
       "      <td>...</td>\n",
       "      <td>6.0</td>\n",
       "      <td>8.16</td>\n",
       "      <td>65.0</td>\n",
       "      <td>0.1</td>\n",
       "      <td>584.259210</td>\n",
       "      <td>33736494.0</td>\n",
       "      <td>17.2</td>\n",
       "      <td>17.3</td>\n",
       "      <td>0.479</td>\n",
       "      <td>10.1</td>\n",
       "    </tr>\n",
       "    <tr>\n",
       "      <td>1</td>\n",
       "      <td>Afghanistan</td>\n",
       "      <td>2014</td>\n",
       "      <td>Developing</td>\n",
       "      <td>59.9</td>\n",
       "      <td>271.0</td>\n",
       "      <td>64</td>\n",
       "      <td>0.01</td>\n",
       "      <td>73.523582</td>\n",
       "      <td>62.0</td>\n",
       "      <td>492</td>\n",
       "      <td>...</td>\n",
       "      <td>58.0</td>\n",
       "      <td>8.18</td>\n",
       "      <td>62.0</td>\n",
       "      <td>0.1</td>\n",
       "      <td>612.696514</td>\n",
       "      <td>327582.0</td>\n",
       "      <td>17.5</td>\n",
       "      <td>17.5</td>\n",
       "      <td>0.476</td>\n",
       "      <td>10.0</td>\n",
       "    </tr>\n",
       "    <tr>\n",
       "      <td>2</td>\n",
       "      <td>Afghanistan</td>\n",
       "      <td>2013</td>\n",
       "      <td>Developing</td>\n",
       "      <td>59.9</td>\n",
       "      <td>268.0</td>\n",
       "      <td>66</td>\n",
       "      <td>0.01</td>\n",
       "      <td>73.219243</td>\n",
       "      <td>64.0</td>\n",
       "      <td>430</td>\n",
       "      <td>...</td>\n",
       "      <td>62.0</td>\n",
       "      <td>8.13</td>\n",
       "      <td>64.0</td>\n",
       "      <td>0.1</td>\n",
       "      <td>631.744976</td>\n",
       "      <td>31731688.0</td>\n",
       "      <td>17.7</td>\n",
       "      <td>17.7</td>\n",
       "      <td>0.470</td>\n",
       "      <td>9.9</td>\n",
       "    </tr>\n",
       "    <tr>\n",
       "      <td>3</td>\n",
       "      <td>Afghanistan</td>\n",
       "      <td>2012</td>\n",
       "      <td>Developing</td>\n",
       "      <td>59.5</td>\n",
       "      <td>272.0</td>\n",
       "      <td>69</td>\n",
       "      <td>0.01</td>\n",
       "      <td>78.184215</td>\n",
       "      <td>67.0</td>\n",
       "      <td>2787</td>\n",
       "      <td>...</td>\n",
       "      <td>67.0</td>\n",
       "      <td>8.52</td>\n",
       "      <td>67.0</td>\n",
       "      <td>0.1</td>\n",
       "      <td>669.959000</td>\n",
       "      <td>3696958.0</td>\n",
       "      <td>17.9</td>\n",
       "      <td>18.0</td>\n",
       "      <td>0.463</td>\n",
       "      <td>9.8</td>\n",
       "    </tr>\n",
       "    <tr>\n",
       "      <td>4</td>\n",
       "      <td>Afghanistan</td>\n",
       "      <td>2011</td>\n",
       "      <td>Developing</td>\n",
       "      <td>59.2</td>\n",
       "      <td>275.0</td>\n",
       "      <td>71</td>\n",
       "      <td>0.01</td>\n",
       "      <td>7.097109</td>\n",
       "      <td>68.0</td>\n",
       "      <td>3013</td>\n",
       "      <td>...</td>\n",
       "      <td>68.0</td>\n",
       "      <td>7.87</td>\n",
       "      <td>68.0</td>\n",
       "      <td>0.1</td>\n",
       "      <td>63.537231</td>\n",
       "      <td>2978599.0</td>\n",
       "      <td>18.2</td>\n",
       "      <td>18.2</td>\n",
       "      <td>0.454</td>\n",
       "      <td>9.5</td>\n",
       "    </tr>\n",
       "  </tbody>\n",
       "</table>\n",
       "<p>5 rows × 22 columns</p>\n",
       "</div>"
      ],
      "text/plain": [
       "       Country  Year      Status  Life expectancy   Adult Mortality  \\\n",
       "0  Afghanistan  2015  Developing              65.0            263.0   \n",
       "1  Afghanistan  2014  Developing              59.9            271.0   \n",
       "2  Afghanistan  2013  Developing              59.9            268.0   \n",
       "3  Afghanistan  2012  Developing              59.5            272.0   \n",
       "4  Afghanistan  2011  Developing              59.2            275.0   \n",
       "\n",
       "   infant deaths  Alcohol  percentage expenditure  Hepatitis B  Measles   ...  \\\n",
       "0             62     0.01               71.279624         65.0      1154  ...   \n",
       "1             64     0.01               73.523582         62.0       492  ...   \n",
       "2             66     0.01               73.219243         64.0       430  ...   \n",
       "3             69     0.01               78.184215         67.0      2787  ...   \n",
       "4             71     0.01                7.097109         68.0      3013  ...   \n",
       "\n",
       "   Polio  Total expenditure  Diphtheria    HIV/AIDS         GDP  Population  \\\n",
       "0    6.0               8.16         65.0        0.1  584.259210  33736494.0   \n",
       "1   58.0               8.18         62.0        0.1  612.696514    327582.0   \n",
       "2   62.0               8.13         64.0        0.1  631.744976  31731688.0   \n",
       "3   67.0               8.52         67.0        0.1  669.959000   3696958.0   \n",
       "4   68.0               7.87         68.0        0.1   63.537231   2978599.0   \n",
       "\n",
       "    thinness  1-19 years   thinness 5-9 years  \\\n",
       "0                   17.2                 17.3   \n",
       "1                   17.5                 17.5   \n",
       "2                   17.7                 17.7   \n",
       "3                   17.9                 18.0   \n",
       "4                   18.2                 18.2   \n",
       "\n",
       "   Income composition of resources  Schooling  \n",
       "0                            0.479       10.1  \n",
       "1                            0.476       10.0  \n",
       "2                            0.470        9.9  \n",
       "3                            0.463        9.8  \n",
       "4                            0.454        9.5  \n",
       "\n",
       "[5 rows x 22 columns]"
      ]
     },
     "execution_count": 3,
     "metadata": {},
     "output_type": "execute_result"
    }
   ],
   "source": [
    "le.head()"
   ]
  },
  {
   "cell_type": "code",
   "execution_count": 4,
   "metadata": {},
   "outputs": [
    {
     "data": {
      "text/plain": [
       "(2938, 22)"
      ]
     },
     "execution_count": 4,
     "metadata": {},
     "output_type": "execute_result"
    }
   ],
   "source": [
    "le.shape"
   ]
  },
  {
   "cell_type": "code",
   "execution_count": 5,
   "metadata": {},
   "outputs": [],
   "source": [
    "le = le.dropna()"
   ]
  },
  {
   "cell_type": "code",
   "execution_count": 6,
   "metadata": {},
   "outputs": [
    {
     "data": {
      "text/plain": [
       "Country                             object\n",
       "Year                                 int64\n",
       "Status                              object\n",
       "Life expectancy                    float64\n",
       "Adult Mortality                    float64\n",
       "infant deaths                        int64\n",
       "Alcohol                            float64\n",
       "percentage expenditure             float64\n",
       "Hepatitis B                        float64\n",
       "Measles                              int64\n",
       " BMI                               float64\n",
       "under-five deaths                    int64\n",
       "Polio                              float64\n",
       "Total expenditure                  float64\n",
       "Diphtheria                         float64\n",
       " HIV/AIDS                          float64\n",
       "GDP                                float64\n",
       "Population                         float64\n",
       " thinness  1-19 years              float64\n",
       " thinness 5-9 years                float64\n",
       "Income composition of resources    float64\n",
       "Schooling                          float64\n",
       "dtype: object"
      ]
     },
     "execution_count": 6,
     "metadata": {},
     "output_type": "execute_result"
    }
   ],
   "source": [
    "le.dtypes"
   ]
  },
  {
   "cell_type": "code",
   "execution_count": 7,
   "metadata": {},
   "outputs": [
    {
     "data": {
      "text/plain": [
       "Index(['Country', 'Year', 'Status', 'Life expectancy ', 'Adult Mortality',\n",
       "       'infant deaths', 'Alcohol', 'percentage expenditure', 'Hepatitis B',\n",
       "       'Measles ', ' BMI ', 'under-five deaths ', 'Polio', 'Total expenditure',\n",
       "       'Diphtheria ', ' HIV/AIDS', 'GDP', 'Population',\n",
       "       ' thinness  1-19 years', ' thinness 5-9 years',\n",
       "       'Income composition of resources', 'Schooling'],\n",
       "      dtype='object')"
      ]
     },
     "execution_count": 7,
     "metadata": {},
     "output_type": "execute_result"
    }
   ],
   "source": [
    "le.columns"
   ]
  },
  {
   "cell_type": "code",
   "execution_count": 8,
   "metadata": {},
   "outputs": [],
   "source": [
    "train, test = train_test_split(le, test_size = 0.1)"
   ]
  },
  {
   "cell_type": "code",
   "execution_count": 9,
   "metadata": {},
   "outputs": [],
   "source": [
    "X_train = train.drop(['Country', 'Year', 'Status', 'Life expectancy '], axis = 1)\n",
    "Y_train = train[['Life expectancy ']]\n",
    "\n",
    "X_test = test.drop(['Country', 'Year', 'Status', 'Life expectancy '], axis = 1)\n",
    "Y_test = test[['Life expectancy ']]"
   ]
  },
  {
   "cell_type": "code",
   "execution_count": 10,
   "metadata": {},
   "outputs": [],
   "source": [
    "model = LinearRegression()\n",
    "model.fit(X_train, Y_train)\n",
    "\n",
    "training_accuracy = model.score(X_train, Y_train)"
   ]
  },
  {
   "cell_type": "code",
   "execution_count": 11,
   "metadata": {},
   "outputs": [
    {
     "data": {
      "text/plain": [
       "0.8321837840835424"
      ]
     },
     "execution_count": 11,
     "metadata": {},
     "output_type": "execute_result"
    }
   ],
   "source": [
    "training_accuracy"
   ]
  },
  {
   "cell_type": "code",
   "execution_count": 12,
   "metadata": {},
   "outputs": [
    {
     "data": {
      "text/plain": [
       "0.8509750187499053"
      ]
     },
     "execution_count": 12,
     "metadata": {},
     "output_type": "execute_result"
    }
   ],
   "source": [
    "model.score(X_test, Y_test)"
   ]
  },
  {
   "cell_type": "code",
   "execution_count": 13,
   "metadata": {},
   "outputs": [
    {
     "name": "stdout",
     "output_type": "stream",
     "text": [
      "Training accuracy:  0.8321837840835424\n",
      "Test accuracy:  0.8509750187499053\n"
     ]
    }
   ],
   "source": [
    "X_train = train.drop(['Country', 'Year', 'Status', 'Life expectancy '], axis = 1)\n",
    "Y_train = train[['Life expectancy ']]\n",
    "\n",
    "X_test = test.drop(['Country', 'Year', 'Status', 'Life expectancy '], axis = 1)\n",
    "Y_test = test[['Life expectancy ']]\n",
    "\n",
    "model = LinearRegression()\n",
    "model.fit(X_train, Y_train)\n",
    "\n",
    "print('Training accuracy: ', model.score(X_train, Y_train))\n",
    "print('Test accuracy: ', model.score(X_test, Y_test))"
   ]
  },
  {
   "cell_type": "code",
   "execution_count": 14,
   "metadata": {},
   "outputs": [
    {
     "name": "stdout",
     "output_type": "stream",
     "text": [
      "Training accuracy:  0.1763263153363437\n",
      "Test accuracy:  0.020084330039612408\n"
     ]
    }
   ],
   "source": [
    "X_train = train[['Alcohol']]\n",
    "Y_train = train[['Life expectancy ']]\n",
    "\n",
    "X_test = test[['Alcohol']]\n",
    "Y_test = test[['Life expectancy ']]\n",
    "\n",
    "model = LinearRegression()\n",
    "model.fit(X_train, Y_train)\n",
    "\n",
    "print('Training accuracy: ', model.score(X_train, Y_train))\n",
    "print('Test accuracy: ', model.score(X_test, Y_test))"
   ]
  },
  {
   "cell_type": "code",
   "execution_count": 15,
   "metadata": {},
   "outputs": [
    {
     "data": {
      "text/plain": [
       "['Adult Mortality',\n",
       " 'infant deaths',\n",
       " 'Alcohol',\n",
       " 'percentage expenditure',\n",
       " 'Hepatitis B',\n",
       " 'Measles ',\n",
       " ' BMI ',\n",
       " 'under-five deaths ',\n",
       " 'Polio',\n",
       " 'Total expenditure',\n",
       " 'Diphtheria ',\n",
       " ' HIV/AIDS',\n",
       " 'GDP',\n",
       " 'Population',\n",
       " ' thinness  1-19 years',\n",
       " ' thinness 5-9 years',\n",
       " 'Income composition of resources',\n",
       " 'Schooling']"
      ]
     },
     "execution_count": 15,
     "metadata": {},
     "output_type": "execute_result"
    }
   ],
   "source": [
    "list(le.columns)[4:]"
   ]
  },
  {
   "cell_type": "code",
   "execution_count": 16,
   "metadata": {},
   "outputs": [
    {
     "name": "stdout",
     "output_type": "stream",
     "text": [
      "Model trained only on:  Adult Mortality\n",
      "Training accuracy:  0.4813692865947661\n",
      "Test accuracy:  0.5836865469407734\n",
      " \n",
      "Model trained only on:  infant deaths\n",
      "Training accuracy:  0.031767921518585096\n",
      "Test accuracy:  -0.02412536710162638\n",
      " \n",
      "Model trained only on:  Alcohol\n",
      "Training accuracy:  0.1763263153363437\n",
      "Test accuracy:  0.020084330039612408\n",
      " \n",
      "Model trained only on:  percentage expenditure\n",
      "Training accuracy:  0.17518390894769764\n",
      "Test accuracy:  0.08490091580089731\n",
      " \n",
      "Model trained only on:  Hepatitis B\n",
      "Training accuracy:  0.03750075028642119\n",
      "Test accuracy:  0.03513112762505777\n",
      " \n",
      "Model trained only on:  Measles \n",
      "Training accuracy:  0.005118374610308174\n",
      "Test accuracy:  -0.024484200468513073\n",
      " \n",
      "Model trained only on:   BMI \n",
      "Training accuracy:  0.2975750733154592\n",
      "Test accuracy:  0.24413950129185436\n",
      " \n",
      "Model trained only on:  under-five deaths \n",
      "Training accuracy:  0.040524342207471586\n",
      "Test accuracy:  -0.01869526928707388\n",
      " \n",
      "Model trained only on:  Polio\n",
      "Training accuracy:  0.10358411575390025\n",
      "Test accuracy:  0.11116366195153382\n",
      " \n",
      "Model trained only on:  Total expenditure\n",
      "Training accuracy:  0.03648218030100414\n",
      "Test accuracy:  -0.04665797368300906\n",
      " \n",
      "Model trained only on:  Diphtheria \n",
      "Training accuracy:  0.12249216757510661\n",
      "Test accuracy:  0.04267559788378795\n",
      " \n",
      "Model trained only on:   HIV/AIDS\n",
      "Training accuracy:  0.3347033187690167\n",
      "Test accuracy:  0.46914679444280083\n",
      " \n",
      "Model trained only on:  GDP\n",
      "Training accuracy:  0.20071249914170308\n",
      "Test accuracy:  0.12397823566074904\n",
      " \n",
      "Model trained only on:  Population\n",
      "Training accuracy:  0.000837647182076573\n",
      "Test accuracy:  -0.02868675364166351\n",
      " \n",
      "Model trained only on:   thinness  1-19 years\n",
      "Training accuracy:  0.2087234114545965\n",
      "Test accuracy:  0.19643315378813186\n",
      " \n",
      "Model trained only on:   thinness 5-9 years\n",
      "Training accuracy:  0.20891704003238498\n",
      "Test accuracy:  0.1921977645584663\n",
      " \n",
      "Model trained only on:  Income composition of resources\n",
      "Training accuracy:  0.5260068101629465\n",
      "Test accuracy:  0.4569467320418338\n",
      " \n",
      "Model trained only on:  Schooling\n",
      "Training accuracy:  0.5368239650591429\n",
      "Test accuracy:  0.4549729036203135\n",
      " \n"
     ]
    }
   ],
   "source": [
    "for col in list(le.columns)[4:]:\n",
    "    X_train = train[[col]]\n",
    "    Y_train = train[['Life expectancy ']]\n",
    "\n",
    "    X_test = test[[col]]\n",
    "    Y_test = test[['Life expectancy ']]\n",
    "\n",
    "    model = LinearRegression()\n",
    "    model.fit(X_train, Y_train)\n",
    "    \n",
    "    print('Model trained only on: ', col)\n",
    "    print('Training accuracy: ', model.score(X_train, Y_train))\n",
    "    print('Test accuracy: ', model.score(X_test, Y_test))\n",
    "    print(' ')"
   ]
  },
  {
   "cell_type": "code",
   "execution_count": 17,
   "metadata": {},
   "outputs": [
    {
     "data": {
      "application/vnd.jupyter.widget-view+json": {
       "model_id": "fc59a874f0974c30a0aa7f8b769cfffd",
       "version_major": 2,
       "version_minor": 0
      },
      "text/plain": [
       "RadioButtons(description='Pizza topping:', options=('Adult Mortality', 'infant deaths', 'Alcohol', 'percentage…"
      ]
     },
     "metadata": {},
     "output_type": "display_data"
    }
   ],
   "source": [
    "\n",
    "widgets.RadioButtons(\n",
    "    options=list(le.columns)[4:],\n",
    "#    value='pineapple', # Defaults to 'pineapple'\n",
    "#    layout={'width': 'max-content'}, # If the items' names are long\n",
    "    description='Pizza topping:',\n",
    "    disabled=False\n",
    ")"
   ]
  },
  {
   "cell_type": "code",
   "execution_count": 18,
   "metadata": {},
   "outputs": [
    {
     "data": {
      "application/vnd.jupyter.widget-view+json": {
       "model_id": "9160546050cb46a99117098a727b2b30",
       "version_major": 2,
       "version_minor": 0
      },
      "text/plain": [
       "SelectMultiple(description='Variables', index=(0,), options=('Adult Mortality', 'infant deaths', 'Alcohol', 'p…"
      ]
     },
     "metadata": {},
     "output_type": "display_data"
    }
   ],
   "source": [
    "widgets.SelectMultiple(\n",
    "    options=list(le.columns)[4:],\n",
    "    value=['Adult Mortality'],\n",
    "    #rows=10,\n",
    "    description='Variables',\n",
    "    disabled=False\n",
    ")"
   ]
  },
  {
   "cell_type": "code",
   "execution_count": 19,
   "metadata": {},
   "outputs": [
    {
     "data": {
      "text/plain": [
       "['Adult Mortality',\n",
       " 'infant deaths',\n",
       " 'Alcohol',\n",
       " 'percentage expenditure',\n",
       " 'Hepatitis B',\n",
       " 'Measles ',\n",
       " ' BMI ',\n",
       " 'under-five deaths ',\n",
       " 'Polio',\n",
       " 'Total expenditure',\n",
       " 'Diphtheria ',\n",
       " ' HIV/AIDS',\n",
       " 'GDP',\n",
       " 'Population',\n",
       " ' thinness  1-19 years',\n",
       " ' thinness 5-9 years',\n",
       " 'Income composition of resources',\n",
       " 'Schooling']"
      ]
     },
     "execution_count": 19,
     "metadata": {},
     "output_type": "execute_result"
    }
   ],
   "source": [
    "list(le.columns)[4:]"
   ]
  },
  {
   "cell_type": "code",
   "execution_count": 20,
   "metadata": {},
   "outputs": [],
   "source": [
    "def predict_life_expectancy(variables, single = True):\n",
    "    if single:\n",
    "        X_train = train[[variables]]\n",
    "        X_test = test[[variables]]\n",
    "    else:\n",
    "        X_train = train[variables]\n",
    "        X_test = test[variables]\n",
    "        \n",
    "    Y_train = train[['Life expectancy ']]\n",
    "    Y_test = test[['Life expectancy ']]\n",
    "\n",
    "    model = LinearRegression()\n",
    "    model.fit(X_train, Y_train)\n",
    "\n",
    "    print('Model trained on: ', variables)\n",
    "    print('Training accuracy: ', model.score(X_train, Y_train))\n",
    "    print('Test accuracy: ', model.score(X_test, Y_test))"
   ]
  },
  {
   "cell_type": "code",
   "execution_count": 21,
   "metadata": {},
   "outputs": [
    {
     "name": "stdout",
     "output_type": "stream",
     "text": [
      "Model trained on:  ['Adult Mortality', 'infant deaths', 'Alcohol']\n",
      "Training accuracy:  0.5834320609602202\n",
      "Test accuracy:  0.6012297378553647\n"
     ]
    }
   ],
   "source": [
    "predict_life_expectancy(['Adult Mortality', 'infant deaths', 'Alcohol'], single = False)"
   ]
  },
  {
   "cell_type": "code",
   "execution_count": 22,
   "metadata": {},
   "outputs": [
    {
     "data": {
      "application/vnd.jupyter.widget-view+json": {
       "model_id": "ae001c39dc464764847ff97f385b2b30",
       "version_major": 2,
       "version_minor": 0
      },
      "text/plain": [
       "interactive(children=(ToggleButtons(description='Explanatory variable:', options=('Adult Mortality', 'infant d…"
      ]
     },
     "metadata": {},
     "output_type": "display_data"
    }
   ],
   "source": [
    "var = widgets.ToggleButtons(\n",
    "    options=list(le.columns)[4:],\n",
    "   value='Adult Mortality',\n",
    "    description='Explanatory variable:',\n",
    "    disabled=False\n",
    ")\n",
    "s = widgets.Checkbox(\n",
    "    value=True,\n",
    "    description='Single Variable',\n",
    "    disabled=False,\n",
    "    indent=False\n",
    ")\n",
    "interact(predict_life_expectancy, variables = var, single = s);"
   ]
  },
  {
   "cell_type": "code",
   "execution_count": 23,
   "metadata": {},
   "outputs": [
    {
     "name": "stdout",
     "output_type": "stream",
     "text": [
      "Model trained only on:  Adult Mortality\n",
      "Training accuracy:  0.4813692865947661\n",
      "Test accuracy:  0.5836865469407734\n",
      " \n",
      "Model trained only on:  infant deaths\n",
      "Training accuracy:  0.031767921518585096\n",
      "Test accuracy:  -0.02412536710162638\n",
      " \n",
      "Model trained only on:  Alcohol\n",
      "Training accuracy:  0.1763263153363437\n",
      "Test accuracy:  0.020084330039612408\n",
      " \n",
      "Model trained only on:  percentage expenditure\n",
      "Training accuracy:  0.17518390894769764\n",
      "Test accuracy:  0.08490091580089731\n",
      " \n",
      "Model trained only on:  Hepatitis B\n",
      "Training accuracy:  0.03750075028642119\n",
      "Test accuracy:  0.03513112762505777\n",
      " \n",
      "Model trained only on:  Measles \n",
      "Training accuracy:  0.005118374610308174\n",
      "Test accuracy:  -0.024484200468513073\n",
      " \n",
      "Model trained only on:   BMI \n",
      "Training accuracy:  0.2975750733154592\n",
      "Test accuracy:  0.24413950129185436\n",
      " \n",
      "Model trained only on:  under-five deaths \n",
      "Training accuracy:  0.040524342207471586\n",
      "Test accuracy:  -0.01869526928707388\n",
      " \n",
      "Model trained only on:  Polio\n",
      "Training accuracy:  0.10358411575390025\n",
      "Test accuracy:  0.11116366195153382\n",
      " \n",
      "Model trained only on:  Total expenditure\n",
      "Training accuracy:  0.03648218030100414\n",
      "Test accuracy:  -0.04665797368300906\n",
      " \n",
      "Model trained only on:  Diphtheria \n",
      "Training accuracy:  0.12249216757510661\n",
      "Test accuracy:  0.04267559788378795\n",
      " \n",
      "Model trained only on:   HIV/AIDS\n",
      "Training accuracy:  0.3347033187690167\n",
      "Test accuracy:  0.46914679444280083\n",
      " \n",
      "Model trained only on:  GDP\n",
      "Training accuracy:  0.20071249914170308\n",
      "Test accuracy:  0.12397823566074904\n",
      " \n",
      "Model trained only on:  Population\n",
      "Training accuracy:  0.000837647182076573\n",
      "Test accuracy:  -0.02868675364166351\n",
      " \n",
      "Model trained only on:   thinness  1-19 years\n",
      "Training accuracy:  0.2087234114545965\n",
      "Test accuracy:  0.19643315378813186\n",
      " \n",
      "Model trained only on:   thinness 5-9 years\n",
      "Training accuracy:  0.20891704003238498\n",
      "Test accuracy:  0.1921977645584663\n",
      " \n",
      "Model trained only on:  Income composition of resources\n",
      "Training accuracy:  0.5260068101629465\n",
      "Test accuracy:  0.4569467320418338\n",
      " \n",
      "Model trained only on:  Schooling\n",
      "Training accuracy:  0.5368239650591429\n",
      "Test accuracy:  0.4549729036203135\n",
      " \n"
     ]
    }
   ],
   "source": [
    "for col in list(le.columns)[4:]:\n",
    "    X_train = train[[col]]\n",
    "    Y_train = train[['Life expectancy ']]\n",
    "\n",
    "    X_test = test[[col]]\n",
    "    Y_test = test[['Life expectancy ']]\n",
    "\n",
    "    model = LinearRegression()\n",
    "    model.fit(X_train, Y_train)\n",
    "    \n",
    "    print('Model trained only on: ', col)\n",
    "    print('Training accuracy: ', model.score(X_train, Y_train))\n",
    "    print('Test accuracy: ', model.score(X_test, Y_test))\n",
    "    print(' ')"
   ]
  },
  {
   "cell_type": "code",
   "execution_count": 24,
   "metadata": {},
   "outputs": [
    {
     "name": "stdout",
     "output_type": "stream",
     "text": [
      "Model trained on:  ['Adult Mortality', 'infant deaths', 'Alcohol', 'percentage expenditure', 'Hepatitis B', 'Measles ', ' BMI ', 'under-five deaths ', 'Polio', 'Total expenditure', 'Diphtheria ', ' HIV/AIDS', 'GDP', 'Population', ' thinness  1-19 years', ' thinness 5-9 years', 'Income composition of resources', 'Schooling']\n",
      "Training accuracy:  0.8321837840835424\n",
      "Test accuracy:  0.8509750187499053\n"
     ]
    }
   ],
   "source": [
    "col = list(le.columns)[4:]\n",
    "\n",
    "X_train = train[col]\n",
    "Y_train = train[['Life expectancy ']]\n",
    "\n",
    "X_test = test[col]\n",
    "Y_test = test[['Life expectancy ']]\n",
    "\n",
    "model = LinearRegression()\n",
    "model.fit(X_train, Y_train)\n",
    "    \n",
    "print('Model trained on: ', col)\n",
    "print('Training accuracy: ', model.score(X_train, Y_train))\n",
    "print('Test accuracy: ', model.score(X_test, Y_test))"
   ]
  },
  {
   "cell_type": "code",
   "execution_count": null,
   "metadata": {},
   "outputs": [],
   "source": []
  }
 ],
 "metadata": {
  "kernelspec": {
   "display_name": "Python 3",
   "language": "python",
   "name": "python3"
  },
  "language_info": {
   "codemirror_mode": {
    "name": "ipython",
    "version": 3
   },
   "file_extension": ".py",
   "mimetype": "text/x-python",
   "name": "python",
   "nbconvert_exporter": "python",
   "pygments_lexer": "ipython3",
   "version": "3.7.4"
  }
 },
 "nbformat": 4,
 "nbformat_minor": 2
}
